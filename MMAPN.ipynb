{
 "cells": [
  {
   "cell_type": "code",
   "execution_count": 2,
   "id": "e32846ce",
   "metadata": {},
   "outputs": [],
   "source": [
    "import os"
   ]
  },
  {
   "cell_type": "code",
   "execution_count": 3,
   "id": "76bc0cf2",
   "metadata": {},
   "outputs": [
    {
     "name": "stderr",
     "output_type": "stream",
     "text": [
      "2025-05-04 00:04:44.235731: E external/local_xla/xla/stream_executor/cuda/cuda_fft.cc:467] Unable to register cuFFT factory: Attempting to register factory for plugin cuFFT when one has already been registered\n",
      "WARNING: All log messages before absl::InitializeLog() is called are written to STDERR\n",
      "E0000 00:00:1746331484.279379  296877 cuda_dnn.cc:8579] Unable to register cuDNN factory: Attempting to register factory for plugin cuDNN when one has already been registered\n",
      "E0000 00:00:1746331484.296916  296877 cuda_blas.cc:1407] Unable to register cuBLAS factory: Attempting to register factory for plugin cuBLAS when one has already been registered\n",
      "W0000 00:00:1746331484.368512  296877 computation_placer.cc:177] computation placer already registered. Please check linkage and avoid linking the same target more than once.\n",
      "W0000 00:00:1746331484.368597  296877 computation_placer.cc:177] computation placer already registered. Please check linkage and avoid linking the same target more than once.\n",
      "W0000 00:00:1746331484.368601  296877 computation_placer.cc:177] computation placer already registered. Please check linkage and avoid linking the same target more than once.\n",
      "W0000 00:00:1746331484.368603  296877 computation_placer.cc:177] computation placer already registered. Please check linkage and avoid linking the same target more than once.\n",
      "2025-05-04 00:04:44.383139: I tensorflow/core/platform/cpu_feature_guard.cc:210] This TensorFlow binary is optimized to use available CPU instructions in performance-critical operations.\n",
      "To enable the following instructions: AVX2 FMA, in other operations, rebuild TensorFlow with the appropriate compiler flags.\n"
     ]
    },
    {
     "name": "stdout",
     "output_type": "stream",
     "text": [
      "data_data_dir=Train_Data/train_url.txt\n",
      "data_max_len_words=200\n",
      "data_max_len_chars=200\n",
      "data_max_len_subwords=20\n",
      "data_min_word_freq=1\n",
      "data_dev_pct=0.2\n",
      "data_delimit_mode=1\n",
      "model_emb_dim=32\n",
      "model_filter_sizes=3,4,5,6\n",
      "model_emb_mode=3\n",
      "train_nb_epochs=2\n",
      "train_batch_size=128\n",
      "train_l2_reg_lambda=0.0\n",
      "train_lr=0.001\n",
      "log_output_dir=Model/runs_url\n",
      "Size of ngram vocabulary: 75\n",
      "Size of word vocabulary: 6071\n",
      "Index of <UNKNOWN> word: 42\n",
      "Size of ngrams_dict: 75\n",
      "Size of words_dict: 6071\n",
      "Size of chars_dict: 75\n"
     ]
    },
    {
     "name": "stderr",
     "output_type": "stream",
     "text": [
      "I0000 00:00:1746331489.221050  296877 gpu_device.cc:2019] Created device /job:localhost/replica:0/task:0/device:GPU:0 with 1753 MB memory:  -> device: 0, name: NVIDIA GeForce RTX 3050 Ti Laptop GPU, pci bus id: 0000:01:00.0, compute capability: 8.6\n"
     ]
    },
    {
     "name": "stdout",
     "output_type": "stream",
     "text": [
      "\n",
      "Start of epoch 1\n"
     ]
    },
    {
     "name": "stderr",
     "output_type": "stream",
     "text": [
      "Training:   0%|          | 0/63 [00:00<?, ?it/s]I0000 00:00:1746331492.079560  296877 cuda_dnn.cc:529] Loaded cuDNN version 90300\n",
      "Training: 100%|██████████| 63/63 [00:58<00:00,  4.13s/it]2025-05-04 00:05:48.365347: I tensorflow/core/framework/local_rendezvous.cc:407] Local rendezvous is aborting with status: OUT_OF_RANGE: End of sequence\n",
      "Training: 100%|██████████| 63/63 [00:58<00:00,  1.07it/s]\n"
     ]
    },
    {
     "name": "stdout",
     "output_type": "stream",
     "text": [
      "Epoch 1, Loss: 0.18294757604599, Accuracy: 0.9150000214576721\n"
     ]
    },
    {
     "name": "stderr",
     "output_type": "stream",
     "text": [
      "2025-05-04 00:05:49.478327: I tensorflow/core/framework/local_rendezvous.cc:407] Local rendezvous is aborting with status: OUT_OF_RANGE: End of sequence\n",
      "Training:   0%|          | 0/63 [00:00<?, ?it/s]"
     ]
    },
    {
     "name": "stdout",
     "output_type": "stream",
     "text": [
      "Validation Loss: 0.03417085111141205, Validation Accuracy: 0.9959999918937683\n",
      "\n",
      "Start of epoch 2\n"
     ]
    },
    {
     "name": "stderr",
     "output_type": "stream",
     "text": [
      "Training: 100%|██████████| 63/63 [00:15<00:00,  4.18it/s]\n"
     ]
    },
    {
     "name": "stdout",
     "output_type": "stream",
     "text": [
      "Epoch 2, Loss: 0.01427555549889803, Accuracy: 0.9975000023841858\n"
     ]
    },
    {
     "name": "stderr",
     "output_type": "stream",
     "text": [
      "2025-05-04 00:06:05.415470: I tensorflow/core/framework/local_rendezvous.cc:407] Local rendezvous is aborting with status: OUT_OF_RANGE: End of sequence\n"
     ]
    },
    {
     "name": "stdout",
     "output_type": "stream",
     "text": [
      "Validation Loss: 0.01777178794145584, Validation Accuracy: 0.9965000152587891\n"
     ]
    },
    {
     "data": {
      "text/plain": [
       "0"
      ]
     },
     "execution_count": 3,
     "metadata": {},
     "output_type": "execute_result"
    }
   ],
   "source": [
    "os.system('python3 train_url.py --data_data_dir Train_Data/train_url.txt --data_dev_pct 0.2 \\\n",
    "--train_nb_epochs 2 --train_batch_size 128 \\\n",
    "--log_output_dir Model/runs_url')"
   ]
  },
  {
   "cell_type": "code",
   "execution_count": 4,
   "id": "d5d11abc",
   "metadata": {},
   "outputs": [
    {
     "name": "stderr",
     "output_type": "stream",
     "text": [
      "2025-05-04 00:08:27.722336: E external/local_xla/xla/stream_executor/cuda/cuda_fft.cc:467] Unable to register cuFFT factory: Attempting to register factory for plugin cuFFT when one has already been registered\n",
      "WARNING: All log messages before absl::InitializeLog() is called are written to STDERR\n",
      "E0000 00:00:1746331707.741394  298941 cuda_dnn.cc:8579] Unable to register cuDNN factory: Attempting to register factory for plugin cuDNN when one has already been registered\n",
      "E0000 00:00:1746331707.746884  298941 cuda_blas.cc:1407] Unable to register cuBLAS factory: Attempting to register factory for plugin cuBLAS when one has already been registered\n",
      "W0000 00:00:1746331707.766037  298941 computation_placer.cc:177] computation placer already registered. Please check linkage and avoid linking the same target more than once.\n",
      "W0000 00:00:1746331707.766095  298941 computation_placer.cc:177] computation placer already registered. Please check linkage and avoid linking the same target more than once.\n",
      "W0000 00:00:1746331707.766098  298941 computation_placer.cc:177] computation placer already registered. Please check linkage and avoid linking the same target more than once.\n",
      "W0000 00:00:1746331707.766100  298941 computation_placer.cc:177] computation placer already registered. Please check linkage and avoid linking the same target more than once.\n",
      "2025-05-04 00:08:27.771073: I tensorflow/core/platform/cpu_feature_guard.cc:210] This TensorFlow binary is optimized to use available CPU instructions in performance-critical operations.\n",
      "To enable the following instructions: AVX2 FMA, in other operations, rebuild TensorFlow with the appropriate compiler flags.\n"
     ]
    },
    {
     "name": "stdout",
     "output_type": "stream",
     "text": [
      "data_data_dir=Train_Data/train_html.txt\n",
      "data_max_len_words=200\n",
      "data_max_len_chars=200\n",
      "data_max_len_subwords=20\n",
      "data_dev_pct=0.2\n",
      "model_emb_dim=100\n",
      "model_filter_sizes=3,4,5,6,7,8,9,10\n",
      "train_nb_epochs=3\n",
      "train_batch_size=20\n",
      "train_lr=0.0015\n",
      "log_output_dir=Model/runs_html\n",
      "Training URLS: 7581\n",
      "Preprocessing HTMLS...\n",
      "Size of ngram vocabulary: 2010\n",
      "Size of word vocabulary: 93437\n",
      "Index of <UNKNOWN> word: 16181\n",
      "Size of ngrams_dict: 2010\n",
      "Size of words_dict: 93437\n",
      "Size of chars_dict: 2010\n"
     ]
    },
    {
     "name": "stderr",
     "output_type": "stream",
     "text": [
      "I0000 00:00:1746331936.223028  298941 gpu_device.cc:2019] Created device /job:localhost/replica:0/task:0/device:GPU:0 with 1753 MB memory:  -> device: 0, name: NVIDIA GeForce RTX 3050 Ti Laptop GPU, pci bus id: 0000:01:00.0, compute capability: 8.6\n"
     ]
    },
    {
     "name": "stdout",
     "output_type": "stream",
     "text": [
      "\n",
      "Start of epoch 1\n"
     ]
    },
    {
     "name": "stderr",
     "output_type": "stream",
     "text": [
      "Training:   0%|          | 0/304 [00:00<?, ?it/s]I0000 00:00:1746331939.372462  298941 cuda_dnn.cc:529] Loaded cuDNN version 90300\n",
      "Training: 100%|██████████| 304/304 [02:31<00:00,  4.34s/it]2025-05-04 00:14:47.594690: I tensorflow/core/framework/local_rendezvous.cc:407] Local rendezvous is aborting with status: OUT_OF_RANGE: End of sequence\n",
      "Training: 100%|██████████| 304/304 [02:31<00:00,  2.01it/s]\n"
     ]
    },
    {
     "name": "stdout",
     "output_type": "stream",
     "text": [
      "Epoch 1, Loss: 0.1865519881248474, Accuracy: 0.9342018365859985\n"
     ]
    },
    {
     "name": "stderr",
     "output_type": "stream",
     "text": [
      "2025-05-04 00:14:52.621957: I tensorflow/core/framework/local_rendezvous.cc:407] Local rendezvous is aborting with status: OUT_OF_RANGE: End of sequence\n"
     ]
    },
    {
     "name": "stdout",
     "output_type": "stream",
     "text": [
      "Validation Loss: 0.07425929605960846, Validation Accuracy: 0.9690178036689758\n",
      "\n",
      "Start of epoch 2\n"
     ]
    },
    {
     "name": "stderr",
     "output_type": "stream",
     "text": [
      "Training: 100%|██████████| 304/304 [01:09<00:00,  4.40it/s]\n"
     ]
    },
    {
     "name": "stdout",
     "output_type": "stream",
     "text": [
      "Epoch 2, Loss: 0.061976358294487, Accuracy: 0.9843337535858154\n"
     ]
    },
    {
     "name": "stderr",
     "output_type": "stream",
     "text": [
      "2025-05-04 00:16:06.585465: I tensorflow/core/framework/local_rendezvous.cc:407] Local rendezvous is aborting with status: OUT_OF_RANGE: End of sequence\n"
     ]
    },
    {
     "name": "stdout",
     "output_type": "stream",
     "text": [
      "Validation Loss: 0.06956082582473755, Validation Accuracy: 0.9822016954421997\n",
      "\n",
      "Start of epoch 3\n"
     ]
    },
    {
     "name": "stderr",
     "output_type": "stream",
     "text": [
      "Training: 100%|██████████| 304/304 [01:12<00:00,  4.18it/s]\n"
     ]
    },
    {
     "name": "stdout",
     "output_type": "stream",
     "text": [
      "Epoch 3, Loss: 0.02230718731880188, Accuracy: 0.9927440881729126\n",
      "Validation Loss: 0.10301092267036438, Validation Accuracy: 0.9874752759933472\n"
     ]
    },
    {
     "data": {
      "text/plain": [
       "0"
      ]
     },
     "execution_count": 4,
     "metadata": {},
     "output_type": "execute_result"
    }
   ],
   "source": [
    "\n",
    "os.system('python3 train_html.py --data_data_dir Train_Data/train_html.txt --data_dev_pct 0.2 \\\n",
    "--train_nb_epochs 3 --train_batch_size 20 \\\n",
    "--log_output_dir Model/runs_html')"
   ]
  },
  {
   "cell_type": "code",
   "execution_count": 3,
   "id": "708f54a7",
   "metadata": {},
   "outputs": [
    {
     "name": "stderr",
     "output_type": "stream",
     "text": [
      "/home/kwm/miniconda3/envs/torch/lib/python3.11/site-packages/pytorch_tabnet/abstract_model.py:82: UserWarning: Device used : cpu\n",
      "  warnings.warn(f\"Device used : {self.device}\")\n"
     ]
    },
    {
     "name": "stdout",
     "output_type": "stream",
     "text": [
      "epoch 0  | loss: 0.73681 | val_0_auc: 0.48213 | val_0_accuracy: 0.714   | val_0_logloss: 0.94935 | val_0_balanced_accuracy: 0.53925 |  0:00:00s\n",
      "epoch 1  | loss: 0.46815 | val_0_auc: 0.69562 | val_0_accuracy: 0.762   | val_0_logloss: 0.53809 | val_0_balanced_accuracy: 0.62032 |  0:00:01s\n",
      "epoch 2  | loss: 0.38299 | val_0_auc: 0.62449 | val_0_accuracy: 0.728   | val_0_logloss: 0.76029 | val_0_balanced_accuracy: 0.60712 |  0:00:01s\n",
      "epoch 3  | loss: 0.33799 | val_0_auc: 0.52345 | val_0_accuracy: 0.369   | val_0_logloss: 1.17081 | val_0_balanced_accuracy: 0.41582 |  0:00:01s\n",
      "epoch 4  | loss: 0.29564 | val_0_auc: 0.56949 | val_0_accuracy: 0.392   | val_0_logloss: 1.52121 | val_0_balanced_accuracy: 0.47896 |  0:00:02s\n",
      "epoch 5  | loss: 0.28279 | val_0_auc: 0.63252 | val_0_accuracy: 0.437   | val_0_logloss: 1.88228 | val_0_balanced_accuracy: 0.53643 |  0:00:02s\n",
      "epoch 6  | loss: 0.26675 | val_0_auc: 0.67933 | val_0_accuracy: 0.457   | val_0_logloss: 1.66899 | val_0_balanced_accuracy: 0.5573  |  0:00:03s\n",
      "epoch 7  | loss: 0.25397 | val_0_auc: 0.73525 | val_0_accuracy: 0.519   | val_0_logloss: 1.33012 | val_0_balanced_accuracy: 0.59245 |  0:00:03s\n",
      "epoch 8  | loss: 0.255   | val_0_auc: 0.80018 | val_0_accuracy: 0.614   | val_0_logloss: 1.02936 | val_0_balanced_accuracy: 0.65594 |  0:00:04s\n",
      "epoch 9  | loss: 0.24863 | val_0_auc: 0.82435 | val_0_accuracy: 0.666   | val_0_logloss: 0.75897 | val_0_balanced_accuracy: 0.67738 |  0:00:04s\n",
      "epoch 10 | loss: 0.24346 | val_0_auc: 0.76688 | val_0_accuracy: 0.628   | val_0_logloss: 0.72533 | val_0_balanced_accuracy: 0.61281 |  0:00:05s\n",
      "epoch 11 | loss: 0.23598 | val_0_auc: 0.82718 | val_0_accuracy: 0.706   | val_0_logloss: 0.62655 | val_0_balanced_accuracy: 0.68929 |  0:00:05s\n",
      "epoch 12 | loss: 0.23346 | val_0_auc: 0.78938 | val_0_accuracy: 0.703   | val_0_logloss: 0.69977 | val_0_balanced_accuracy: 0.68527 |  0:00:05s\n",
      "epoch 13 | loss: 0.23231 | val_0_auc: 0.85677 | val_0_accuracy: 0.731   | val_0_logloss: 0.47632 | val_0_balanced_accuracy: 0.6839  |  0:00:06s\n",
      "epoch 14 | loss: 0.23213 | val_0_auc: 0.87481 | val_0_accuracy: 0.759   | val_0_logloss: 0.49146 | val_0_balanced_accuracy: 0.75342 |  0:00:06s\n",
      "epoch 15 | loss: 0.22581 | val_0_auc: 0.86974 | val_0_accuracy: 0.771   | val_0_logloss: 0.50887 | val_0_balanced_accuracy: 0.78722 |  0:00:07s\n",
      "epoch 16 | loss: 0.22847 | val_0_auc: 0.90265 | val_0_accuracy: 0.828   | val_0_logloss: 0.38036 | val_0_balanced_accuracy: 0.81412 |  0:00:07s\n",
      "epoch 17 | loss: 0.21401 | val_0_auc: 0.88954 | val_0_accuracy: 0.817   | val_0_logloss: 0.42767 | val_0_balanced_accuracy: 0.82675 |  0:00:08s\n",
      "epoch 18 | loss: 0.23163 | val_0_auc: 0.91255 | val_0_accuracy: 0.804   | val_0_logloss: 0.36327 | val_0_balanced_accuracy: 0.76612 |  0:00:08s\n",
      "epoch 19 | loss: 0.2285  | val_0_auc: 0.90891 | val_0_accuracy: 0.83    | val_0_logloss: 0.35491 | val_0_balanced_accuracy: 0.79596 |  0:00:08s\n",
      "epoch 20 | loss: 0.22509 | val_0_auc: 0.92152 | val_0_accuracy: 0.847   | val_0_logloss: 0.33852 | val_0_balanced_accuracy: 0.83334 |  0:00:09s\n",
      "epoch 21 | loss: 0.22018 | val_0_auc: 0.92968 | val_0_accuracy: 0.834   | val_0_logloss: 0.32936 | val_0_balanced_accuracy: 0.79044 |  0:00:09s\n",
      "epoch 22 | loss: 0.21526 | val_0_auc: 0.95833 | val_0_accuracy: 0.896   | val_0_logloss: 0.2498  | val_0_balanced_accuracy: 0.89554 |  0:00:10s\n",
      "epoch 23 | loss: 0.22305 | val_0_auc: 0.95323 | val_0_accuracy: 0.898   | val_0_logloss: 0.25415 | val_0_balanced_accuracy: 0.89605 |  0:00:10s\n",
      "epoch 24 | loss: 0.21552 | val_0_auc: 0.95715 | val_0_accuracy: 0.89    | val_0_logloss: 0.23393 | val_0_balanced_accuracy: 0.84553 |  0:00:11s\n",
      "epoch 25 | loss: 0.21615 | val_0_auc: 0.95504 | val_0_accuracy: 0.9     | val_0_logloss: 0.24354 | val_0_balanced_accuracy: 0.88815 |  0:00:11s\n",
      "epoch 26 | loss: 0.21554 | val_0_auc: 0.9621  | val_0_accuracy: 0.909   | val_0_logloss: 0.2284  | val_0_balanced_accuracy: 0.89648 |  0:00:11s\n",
      "epoch 27 | loss: 0.22492 | val_0_auc: 0.95654 | val_0_accuracy: 0.887   | val_0_logloss: 0.25956 | val_0_balanced_accuracy: 0.86857 |  0:00:12s\n",
      "epoch 28 | loss: 0.22088 | val_0_auc: 0.96801 | val_0_accuracy: 0.907   | val_0_logloss: 0.20963 | val_0_balanced_accuracy: 0.89411 |  0:00:12s\n",
      "epoch 29 | loss: 0.21907 | val_0_auc: 0.94996 | val_0_accuracy: 0.883   | val_0_logloss: 0.27163 | val_0_balanced_accuracy: 0.8629  |  0:00:12s\n",
      "epoch 30 | loss: 0.22987 | val_0_auc: 0.95858 | val_0_accuracy: 0.912   | val_0_logloss: 0.24445 | val_0_balanced_accuracy: 0.90609 |  0:00:13s\n",
      "epoch 31 | loss: 0.22371 | val_0_auc: 0.96012 | val_0_accuracy: 0.901   | val_0_logloss: 0.2365  | val_0_balanced_accuracy: 0.89074 |  0:00:13s\n",
      "epoch 32 | loss: 0.21553 | val_0_auc: 0.96739 | val_0_accuracy: 0.907   | val_0_logloss: 0.21149 | val_0_balanced_accuracy: 0.90064 |  0:00:14s\n",
      "epoch 33 | loss: 0.22726 | val_0_auc: 0.96415 | val_0_accuracy: 0.915   | val_0_logloss: 0.21192 | val_0_balanced_accuracy: 0.90171 |  0:00:14s\n",
      "epoch 34 | loss: 0.22318 | val_0_auc: 0.96447 | val_0_accuracy: 0.906   | val_0_logloss: 0.2173  | val_0_balanced_accuracy: 0.89526 |  0:00:14s\n",
      "epoch 35 | loss: 0.21649 | val_0_auc: 0.96719 | val_0_accuracy: 0.915   | val_0_logloss: 0.2051  | val_0_balanced_accuracy: 0.90638 |  0:00:15s\n",
      "epoch 36 | loss: 0.21966 | val_0_auc: 0.96475 | val_0_accuracy: 0.918   | val_0_logloss: 0.21155 | val_0_balanced_accuracy: 0.91226 |  0:00:15s\n",
      "epoch 37 | loss: 0.20943 | val_0_auc: 0.96578 | val_0_accuracy: 0.91    | val_0_logloss: 0.21457 | val_0_balanced_accuracy: 0.90372 |  0:00:16s\n",
      "epoch 38 | loss: 0.21189 | val_0_auc: 0.97087 | val_0_accuracy: 0.912   | val_0_logloss: 0.20016 | val_0_balanced_accuracy: 0.89583 |  0:00:16s\n",
      "epoch 39 | loss: 0.20224 | val_0_auc: 0.9686  | val_0_accuracy: 0.91    | val_0_logloss: 0.20191 | val_0_balanced_accuracy: 0.89719 |  0:00:17s\n",
      "epoch 40 | loss: 0.20377 | val_0_auc: 0.96504 | val_0_accuracy: 0.917   | val_0_logloss: 0.20644 | val_0_balanced_accuracy: 0.90688 |  0:00:17s\n",
      "epoch 41 | loss: 0.20591 | val_0_auc: 0.96938 | val_0_accuracy: 0.906   | val_0_logloss: 0.20344 | val_0_balanced_accuracy: 0.90085 |  0:00:18s\n",
      "epoch 42 | loss: 0.2021  | val_0_auc: 0.97048 | val_0_accuracy: 0.914   | val_0_logloss: 0.19932 | val_0_balanced_accuracy: 0.90379 |  0:00:18s\n",
      "epoch 43 | loss: 0.20536 | val_0_auc: 0.96584 | val_0_accuracy: 0.921   | val_0_logloss: 0.20103 | val_0_balanced_accuracy: 0.91348 |  0:00:19s\n",
      "epoch 44 | loss: 0.20175 | val_0_auc: 0.97005 | val_0_accuracy: 0.918   | val_0_logloss: 0.19768 | val_0_balanced_accuracy: 0.90853 |  0:00:19s\n",
      "epoch 45 | loss: 0.19814 | val_0_auc: 0.97005 | val_0_accuracy: 0.917   | val_0_logloss: 0.19742 | val_0_balanced_accuracy: 0.90968 |  0:00:19s\n",
      "epoch 46 | loss: 0.20059 | val_0_auc: 0.96919 | val_0_accuracy: 0.918   | val_0_logloss: 0.20067 | val_0_balanced_accuracy: 0.90946 |  0:00:20s\n",
      "epoch 47 | loss: 0.19919 | val_0_auc: 0.97123 | val_0_accuracy: 0.918   | val_0_logloss: 0.19262 | val_0_balanced_accuracy: 0.91133 |  0:00:20s\n",
      "epoch 48 | loss: 0.19541 | val_0_auc: 0.97007 | val_0_accuracy: 0.921   | val_0_logloss: 0.19662 | val_0_balanced_accuracy: 0.91255 |  0:00:21s\n",
      "epoch 49 | loss: 0.19738 | val_0_auc: 0.97207 | val_0_accuracy: 0.924   | val_0_logloss: 0.19076 | val_0_balanced_accuracy: 0.91283 |  0:00:21s\n",
      "epoch 50 | loss: 0.19744 | val_0_auc: 0.96841 | val_0_accuracy: 0.923   | val_0_logloss: 0.19855 | val_0_balanced_accuracy: 0.91585 |  0:00:22s\n",
      "epoch 51 | loss: 0.19355 | val_0_auc: 0.97166 | val_0_accuracy: 0.92    | val_0_logloss: 0.19415 | val_0_balanced_accuracy: 0.91369 |  0:00:22s\n",
      "epoch 52 | loss: 0.19305 | val_0_auc: 0.97517 | val_0_accuracy: 0.924   | val_0_logloss: 0.18165 | val_0_balanced_accuracy: 0.91283 |  0:00:23s\n",
      "epoch 53 | loss: 0.19275 | val_0_auc: 0.9769  | val_0_accuracy: 0.924   | val_0_logloss: 0.17944 | val_0_balanced_accuracy: 0.9147  |  0:00:23s\n",
      "epoch 54 | loss: 0.18984 | val_0_auc: 0.97621 | val_0_accuracy: 0.921   | val_0_logloss: 0.18441 | val_0_balanced_accuracy: 0.91628 |  0:00:24s\n",
      "epoch 55 | loss: 0.19292 | val_0_auc: 0.97564 | val_0_accuracy: 0.921   | val_0_logloss: 0.1845  | val_0_balanced_accuracy: 0.91161 |  0:00:24s\n",
      "epoch 56 | loss: 0.18871 | val_0_auc: 0.9739  | val_0_accuracy: 0.918   | val_0_logloss: 0.18996 | val_0_balanced_accuracy: 0.91133 |  0:00:25s\n",
      "epoch 57 | loss: 0.19158 | val_0_auc: 0.9767  | val_0_accuracy: 0.924   | val_0_logloss: 0.18226 | val_0_balanced_accuracy: 0.91563 |  0:00:25s\n",
      "epoch 58 | loss: 0.19579 | val_0_auc: 0.97761 | val_0_accuracy: 0.921   | val_0_logloss: 0.17636 | val_0_balanced_accuracy: 0.91348 |  0:00:26s\n",
      "epoch 59 | loss: 0.19907 | val_0_auc: 0.97366 | val_0_accuracy: 0.92    | val_0_logloss: 0.19378 | val_0_balanced_accuracy: 0.91463 |  0:00:26s\n",
      "epoch 60 | loss: 0.20152 | val_0_auc: 0.97572 | val_0_accuracy: 0.919   | val_0_logloss: 0.18112 | val_0_balanced_accuracy: 0.91018 |  0:00:27s\n",
      "epoch 61 | loss: 0.19473 | val_0_auc: 0.97141 | val_0_accuracy: 0.92    | val_0_logloss: 0.19104 | val_0_balanced_accuracy: 0.91276 |  0:00:27s\n",
      "epoch 62 | loss: 0.1926  | val_0_auc: 0.97465 | val_0_accuracy: 0.923   | val_0_logloss: 0.18433 | val_0_balanced_accuracy: 0.91398 |  0:00:27s\n",
      "epoch 63 | loss: 0.18949 | val_0_auc: 0.97618 | val_0_accuracy: 0.918   | val_0_logloss: 0.18853 | val_0_balanced_accuracy: 0.91226 |  0:00:28s\n",
      "epoch 64 | loss: 0.18931 | val_0_auc: 0.97619 | val_0_accuracy: 0.922   | val_0_logloss: 0.17882 | val_0_balanced_accuracy: 0.91326 |  0:00:28s\n",
      "\n",
      "Early stopping occurred at epoch 64 with best_epoch = 54 and best_val_0_balanced_accuracy = 0.91628\n"
     ]
    },
    {
     "name": "stderr",
     "output_type": "stream",
     "text": [
      "/home/kwm/miniconda3/envs/torch/lib/python3.11/site-packages/pytorch_tabnet/callbacks.py:172: UserWarning: Best weights from best epoch are automatically used!\n",
      "  warnings.warn(wrn_msg)\n"
     ]
    },
    {
     "name": "stdout",
     "output_type": "stream",
     "text": [
      "Successfully saved model at Model/runs_tab/MMAPN_tab.zip\n"
     ]
    },
    {
     "data": {
      "text/plain": [
       "0"
      ]
     },
     "execution_count": 3,
     "metadata": {},
     "output_type": "execute_result"
    }
   ],
   "source": [
    "os.system('python3 Tab.py --train_data_file Train_Data/train_tab.csv --data_dev_pct 0.1 --model_save_dir Model/runs_tab --model_name MMAPN_tab') # Env switch needed"
   ]
  },
  {
   "cell_type": "code",
   "execution_count": 10,
   "id": "08e9bf1b",
   "metadata": {},
   "outputs": [
    {
     "name": "stderr",
     "output_type": "stream",
     "text": [
      "2025-05-04 00:24:59.661295: E external/local_xla/xla/stream_executor/cuda/cuda_fft.cc:467] Unable to register cuFFT factory: Attempting to register factory for plugin cuFFT when one has already been registered\n",
      "WARNING: All log messages before absl::InitializeLog() is called are written to STDERR\n",
      "E0000 00:00:1746332699.676345  307006 cuda_dnn.cc:8579] Unable to register cuDNN factory: Attempting to register factory for plugin cuDNN when one has already been registered\n",
      "E0000 00:00:1746332699.680649  307006 cuda_blas.cc:1407] Unable to register cuBLAS factory: Attempting to register factory for plugin cuBLAS when one has already been registered\n",
      "W0000 00:00:1746332699.693209  307006 computation_placer.cc:177] computation placer already registered. Please check linkage and avoid linking the same target more than once.\n",
      "W0000 00:00:1746332699.693275  307006 computation_placer.cc:177] computation placer already registered. Please check linkage and avoid linking the same target more than once.\n",
      "W0000 00:00:1746332699.693279  307006 computation_placer.cc:177] computation placer already registered. Please check linkage and avoid linking the same target more than once.\n",
      "W0000 00:00:1746332699.693281  307006 computation_placer.cc:177] computation placer already registered. Please check linkage and avoid linking the same target more than once.\n",
      "2025-05-04 00:24:59.697077: I tensorflow/core/platform/cpu_feature_guard.cc:210] This TensorFlow binary is optimized to use available CPU instructions in performance-critical operations.\n",
      "To enable the following instructions: AVX2 FMA, in other operations, rebuild TensorFlow with the appropriate compiler flags.\n"
     ]
    },
    {
     "name": "stdout",
     "output_type": "stream",
     "text": [
      "data_data_dir=Test_Data/test_url.txt\n",
      "data_max_len_words=200\n",
      "data_max_len_chars=200\n",
      "data_max_len_subwords=20\n",
      "data_delimit_mode=1\n",
      "model_emb_dim=32\n",
      "model_filter_sizes=3,4,5,6\n",
      "model_emb_mode=3\n",
      "test_batch_size=128\n",
      "log_output_dir=Model/runs_url\n",
      "log_checkpoint_dir=Model/runs_url\n",
      "Size of subword vocabulary (train): 75\n",
      "Size of word vocabulary (train): 6071\n",
      "Size of character vocabulary (train): 75\n",
      "Number of testing URLs: 1000\n"
     ]
    },
    {
     "name": "stderr",
     "output_type": "stream",
     "text": [
      "I0000 00:00:1746332703.503205  307006 gpu_device.cc:2019] Created device /job:localhost/replica:0/task:0/device:GPU:0 with 1753 MB memory:  -> device: 0, name: NVIDIA GeForce RTX 3050 Ti Laptop GPU, pci bus id: 0000:01:00.0, compute capability: 8.6\n",
      "Testing:   0%|          | 0/8 [00:00<?, ?it/s]"
     ]
    },
    {
     "name": "stdout",
     "output_type": "stream",
     "text": [
      "Restored from Model/runs_url/checkpoints/ckpt-2\n"
     ]
    },
    {
     "name": "stderr",
     "output_type": "stream",
     "text": [
      "I0000 00:00:1746332705.366497  307006 cuda_dnn.cc:529] Loaded cuDNN version 90300\n",
      "Testing: 100%|██████████| 8/8 [00:03<00:00,  3.28it/s]2025-05-04 00:25:07.118886: I tensorflow/core/framework/local_rendezvous.cc:407] Local rendezvous is aborting with status: OUT_OF_RANGE: End of sequence\n",
      "Testing: 100%|██████████| 8/8 [00:03<00:00,  2.30it/s]\n"
     ]
    },
    {
     "name": "stdout",
     "output_type": "stream",
     "text": [
      "Test Accuracy: 1.0\n"
     ]
    },
    {
     "data": {
      "text/plain": [
       "0"
      ]
     },
     "execution_count": 10,
     "metadata": {},
     "output_type": "execute_result"
    }
   ],
   "source": [
    "os.system('python3 test_url.py --data_data_dir Test_Data/test_url.txt \\\n",
    "--log_checkpoint_dir Model/runs_url --log_output_dir Model/runs_url \\\n",
    "--test_batch_size 128')"
   ]
  },
  {
   "cell_type": "code",
   "execution_count": 15,
   "id": "dd4ad6d7",
   "metadata": {},
   "outputs": [
    {
     "name": "stderr",
     "output_type": "stream",
     "text": [
      "2025-05-04 00:30:57.831142: E external/local_xla/xla/stream_executor/cuda/cuda_fft.cc:467] Unable to register cuFFT factory: Attempting to register factory for plugin cuFFT when one has already been registered\n",
      "WARNING: All log messages before absl::InitializeLog() is called are written to STDERR\n",
      "E0000 00:00:1746333057.856805  310449 cuda_dnn.cc:8579] Unable to register cuDNN factory: Attempting to register factory for plugin cuDNN when one has already been registered\n",
      "E0000 00:00:1746333057.866410  310449 cuda_blas.cc:1407] Unable to register cuBLAS factory: Attempting to register factory for plugin cuBLAS when one has already been registered\n",
      "W0000 00:00:1746333057.888544  310449 computation_placer.cc:177] computation placer already registered. Please check linkage and avoid linking the same target more than once.\n",
      "W0000 00:00:1746333057.888678  310449 computation_placer.cc:177] computation placer already registered. Please check linkage and avoid linking the same target more than once.\n",
      "W0000 00:00:1746333057.888684  310449 computation_placer.cc:177] computation placer already registered. Please check linkage and avoid linking the same target more than once.\n",
      "W0000 00:00:1746333057.888687  310449 computation_placer.cc:177] computation placer already registered. Please check linkage and avoid linking the same target more than once.\n",
      "2025-05-04 00:30:57.895328: I tensorflow/core/platform/cpu_feature_guard.cc:210] This TensorFlow binary is optimized to use available CPU instructions in performance-critical operations.\n",
      "To enable the following instructions: AVX2 FMA, in other operations, rebuild TensorFlow with the appropriate compiler flags.\n"
     ]
    },
    {
     "name": "stdout",
     "output_type": "stream",
     "text": [
      "data_data_dir=Test_Data/test_html.txt\n",
      "data_max_len_words=200\n",
      "data_max_len_chars=200\n",
      "data_max_len_subwords=20\n",
      "model_emb_dim=100\n",
      "model_filter_sizes=3,4,5,6,7,8,9,10\n",
      "test_batch_size=20\n",
      "log_output_dir=Model/runs_html\n",
      "log_checkpoint_dir=Model/runs_html\n",
      "Preprocessing HTMLS...\n",
      "Size of subword vocabulary (train): 2010\n",
      "Size of word vocabulary (train): 93437\n",
      "Size of character vocabulary (train): 2010\n",
      "Number of testing HTMLS: 625\n"
     ]
    },
    {
     "name": "stderr",
     "output_type": "stream",
     "text": [
      "I0000 00:00:1746333083.394055  310449 gpu_device.cc:2019] Created device /job:localhost/replica:0/task:0/device:GPU:0 with 1753 MB memory:  -> device: 0, name: NVIDIA GeForce RTX 3050 Ti Laptop GPU, pci bus id: 0000:01:00.0, compute capability: 8.6\n",
      "Testing:   0%|          | 0/32 [00:00<?, ?it/s]"
     ]
    },
    {
     "name": "stdout",
     "output_type": "stream",
     "text": [
      "Restored from Model/runs_html/checkpoints/ckpt-3\n"
     ]
    },
    {
     "name": "stderr",
     "output_type": "stream",
     "text": [
      "I0000 00:00:1746333085.257242  310449 cuda_dnn.cc:529] Loaded cuDNN version 90300\n",
      "Testing:  97%|█████████▋| 31/32 [00:04<00:00, 17.83it/s]2025-05-04 00:31:28.585873: I tensorflow/core/framework/local_rendezvous.cc:407] Local rendezvous is aborting with status: OUT_OF_RANGE: End of sequence\n",
      "Testing: 100%|██████████| 32/32 [00:05<00:00,  6.32it/s]\n"
     ]
    },
    {
     "name": "stdout",
     "output_type": "stream",
     "text": [
      "Test Accuracy: 0.8512\n"
     ]
    },
    {
     "data": {
      "text/plain": [
       "0"
      ]
     },
     "execution_count": 15,
     "metadata": {},
     "output_type": "execute_result"
    }
   ],
   "source": [
    "os.system('python3 test_html.py --data_data_dir Test_Data/test_html.txt \\\n",
    "--log_checkpoint_dir Model/runs_html --log_output_dir Model/runs_html \\\n",
    "--test_batch_size 20')"
   ]
  },
  {
   "cell_type": "code",
   "execution_count": 4,
   "id": "c34a487d",
   "metadata": {},
   "outputs": [
    {
     "name": "stderr",
     "output_type": "stream",
     "text": [
      "/home/kwm/miniconda3/envs/torch/lib/python3.11/site-packages/pytorch_tabnet/abstract_model.py:82: UserWarning: Device used : cpu\n",
      "  warnings.warn(f\"Device used : {self.device}\")\n"
     ]
    },
    {
     "name": "stdout",
     "output_type": "stream",
     "text": [
      "Test Accuracy: 0.938\n"
     ]
    },
    {
     "data": {
      "text/plain": [
       "0"
      ]
     },
     "execution_count": 4,
     "metadata": {},
     "output_type": "execute_result"
    }
   ],
   "source": [
    "os.system('python3 test_tab.py --test_data_file Test_Data/test_tab.csv --model_save_dir Model/runs_tab --model_name MMAPN_tab')"
   ]
  }
 ],
 "metadata": {
  "kernelspec": {
   "display_name": "torch",
   "language": "python",
   "name": "python3"
  },
  "language_info": {
   "codemirror_mode": {
    "name": "ipython",
    "version": 3
   },
   "file_extension": ".py",
   "mimetype": "text/x-python",
   "name": "python",
   "nbconvert_exporter": "python",
   "pygments_lexer": "ipython3",
   "version": "3.11.11"
  }
 },
 "nbformat": 4,
 "nbformat_minor": 5
}
